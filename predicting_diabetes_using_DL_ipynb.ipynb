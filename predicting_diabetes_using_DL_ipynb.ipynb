{
  "nbformat": 4,
  "nbformat_minor": 0,
  "metadata": {
    "colab": {
      "provenance": [],
      "collapsed_sections": [],
      "include_colab_link": true
    },
    "kernelspec": {
      "name": "python3",
      "display_name": "Python 3"
    },
    "language_info": {
      "name": "python"
    },
    "accelerator": "GPU"
  },
  "cells": [
    {
      "cell_type": "markdown",
      "metadata": {
        "id": "view-in-github",
        "colab_type": "text"
      },
      "source": [
        "<a href=\"https://colab.research.google.com/github/nirvanK11/-predicting-diabetes-using-DL-ipynb/blob/main/predicting_diabetes_using_DL_ipynb.ipynb\" target=\"_parent\"><img src=\"https://colab.research.google.com/assets/colab-badge.svg\" alt=\"Open In Colab\"/></a>"
      ]
    },
    {
      "cell_type": "markdown",
      "source": [
        "## **Importing the Libraries**"
      ],
      "metadata": {
        "id": "sNQgFzM9ltUf"
      }
    },
    {
      "cell_type": "code",
      "execution_count": null,
      "metadata": {
        "id": "J5lMtoAIW36P"
      },
      "outputs": [],
      "source": [
        "import pandas as pd\n",
        "import numpy as np\n",
        "import seaborn as sns\n",
        "import matplotlib.pyplot as plt\n",
        "from sklearn.preprocessing import normalize\n",
        "\n",
        "from sklearn.preprocessing import LabelEncoder\n",
        "from sklearn.model_selection import train_test_split\n",
        "\n",
        "from keras.models import Sequential\n",
        "from keras.layers import Dense\n",
        "\n",
        "from sklearn import metrics   \n",
        "\n",
        "from tensorflow.keras.layers import Dropout\n",
        "import tensorflow as tf"
      ]
    },
    {
      "cell_type": "markdown",
      "source": [
        "### **Dataset Description**\n",
        "*   A1 - Number of times pregnant\n",
        "*   A2 - Plasma glucose concentration a 2 hours in an\n",
        "oral glucose tolerance test\n",
        "*   A3 - Diastolic blood pressure (mm Hg)\n",
        "*   A4 - Triceps skin fold thickness (mm)\n",
        "*   A5 - 2-Hour serum insulin (mu U/ml)\n",
        "*   A6 - Body mass index (weight in kg/(height in m)^2)\n",
        "*   A7 - Diabetes pedigree function\n",
        "*   A8 - Age (years)\n",
        "\n"
      ],
      "metadata": {
        "id": "_KKo36aTnM2f"
      }
    },
    {
      "cell_type": "code",
      "source": [
        "data = pd.read_csv('/content/train.csv')\n",
        "data"
      ],
      "metadata": {
        "colab": {
          "base_uri": "https://localhost:8080/",
          "height": 423
        },
        "id": "dXhbKLxjX8h-",
        "outputId": "cb4537e6-2934-4c7d-eb40-7e01cb92e7ce"
      },
      "execution_count": null,
      "outputs": [
        {
          "output_type": "execute_result",
          "data": {
            "text/html": [
              "\n",
              "  <div id=\"df-b17799e1-2674-4186-8f9f-e728a2ae205f\">\n",
              "    <div class=\"colab-df-container\">\n",
              "      <div>\n",
              "<style scoped>\n",
              "    .dataframe tbody tr th:only-of-type {\n",
              "        vertical-align: middle;\n",
              "    }\n",
              "\n",
              "    .dataframe tbody tr th {\n",
              "        vertical-align: top;\n",
              "    }\n",
              "\n",
              "    .dataframe thead th {\n",
              "        text-align: right;\n",
              "    }\n",
              "</style>\n",
              "<table border=\"1\" class=\"dataframe\">\n",
              "  <thead>\n",
              "    <tr style=\"text-align: right;\">\n",
              "      <th></th>\n",
              "      <th>Id</th>\n",
              "      <th>A1</th>\n",
              "      <th>A2</th>\n",
              "      <th>A3</th>\n",
              "      <th>A4</th>\n",
              "      <th>A5</th>\n",
              "      <th>A6</th>\n",
              "      <th>A7</th>\n",
              "      <th>A8</th>\n",
              "      <th>Class</th>\n",
              "    </tr>\n",
              "  </thead>\n",
              "  <tbody>\n",
              "    <tr>\n",
              "      <th>0</th>\n",
              "      <td>1</td>\n",
              "      <td>6</td>\n",
              "      <td>148</td>\n",
              "      <td>72</td>\n",
              "      <td>35</td>\n",
              "      <td>0</td>\n",
              "      <td>33.6</td>\n",
              "      <td>0.627</td>\n",
              "      <td>50</td>\n",
              "      <td>1</td>\n",
              "    </tr>\n",
              "    <tr>\n",
              "      <th>1</th>\n",
              "      <td>2</td>\n",
              "      <td>1</td>\n",
              "      <td>85</td>\n",
              "      <td>66</td>\n",
              "      <td>29</td>\n",
              "      <td>0</td>\n",
              "      <td>26.6</td>\n",
              "      <td>0.351</td>\n",
              "      <td>31</td>\n",
              "      <td>0</td>\n",
              "    </tr>\n",
              "    <tr>\n",
              "      <th>2</th>\n",
              "      <td>3</td>\n",
              "      <td>8</td>\n",
              "      <td>183</td>\n",
              "      <td>64</td>\n",
              "      <td>0</td>\n",
              "      <td>0</td>\n",
              "      <td>23.3</td>\n",
              "      <td>0.672</td>\n",
              "      <td>32</td>\n",
              "      <td>1</td>\n",
              "    </tr>\n",
              "    <tr>\n",
              "      <th>3</th>\n",
              "      <td>4</td>\n",
              "      <td>1</td>\n",
              "      <td>89</td>\n",
              "      <td>66</td>\n",
              "      <td>23</td>\n",
              "      <td>94</td>\n",
              "      <td>28.1</td>\n",
              "      <td>0.167</td>\n",
              "      <td>21</td>\n",
              "      <td>0</td>\n",
              "    </tr>\n",
              "    <tr>\n",
              "      <th>4</th>\n",
              "      <td>5</td>\n",
              "      <td>0</td>\n",
              "      <td>137</td>\n",
              "      <td>40</td>\n",
              "      <td>35</td>\n",
              "      <td>168</td>\n",
              "      <td>43.1</td>\n",
              "      <td>2.288</td>\n",
              "      <td>33</td>\n",
              "      <td>1</td>\n",
              "    </tr>\n",
              "    <tr>\n",
              "      <th>...</th>\n",
              "      <td>...</td>\n",
              "      <td>...</td>\n",
              "      <td>...</td>\n",
              "      <td>...</td>\n",
              "      <td>...</td>\n",
              "      <td>...</td>\n",
              "      <td>...</td>\n",
              "      <td>...</td>\n",
              "      <td>...</td>\n",
              "      <td>...</td>\n",
              "    </tr>\n",
              "    <tr>\n",
              "      <th>663</th>\n",
              "      <td>664</td>\n",
              "      <td>9</td>\n",
              "      <td>145</td>\n",
              "      <td>80</td>\n",
              "      <td>46</td>\n",
              "      <td>130</td>\n",
              "      <td>37.9</td>\n",
              "      <td>0.637</td>\n",
              "      <td>40</td>\n",
              "      <td>1</td>\n",
              "    </tr>\n",
              "    <tr>\n",
              "      <th>664</th>\n",
              "      <td>665</td>\n",
              "      <td>6</td>\n",
              "      <td>115</td>\n",
              "      <td>60</td>\n",
              "      <td>39</td>\n",
              "      <td>0</td>\n",
              "      <td>33.7</td>\n",
              "      <td>0.245</td>\n",
              "      <td>40</td>\n",
              "      <td>1</td>\n",
              "    </tr>\n",
              "    <tr>\n",
              "      <th>665</th>\n",
              "      <td>666</td>\n",
              "      <td>1</td>\n",
              "      <td>112</td>\n",
              "      <td>80</td>\n",
              "      <td>45</td>\n",
              "      <td>132</td>\n",
              "      <td>34.8</td>\n",
              "      <td>0.217</td>\n",
              "      <td>24</td>\n",
              "      <td>0</td>\n",
              "    </tr>\n",
              "    <tr>\n",
              "      <th>666</th>\n",
              "      <td>667</td>\n",
              "      <td>4</td>\n",
              "      <td>145</td>\n",
              "      <td>82</td>\n",
              "      <td>18</td>\n",
              "      <td>0</td>\n",
              "      <td>32.5</td>\n",
              "      <td>0.235</td>\n",
              "      <td>70</td>\n",
              "      <td>1</td>\n",
              "    </tr>\n",
              "    <tr>\n",
              "      <th>667</th>\n",
              "      <td>668</td>\n",
              "      <td>10</td>\n",
              "      <td>111</td>\n",
              "      <td>70</td>\n",
              "      <td>27</td>\n",
              "      <td>0</td>\n",
              "      <td>27.5</td>\n",
              "      <td>0.141</td>\n",
              "      <td>40</td>\n",
              "      <td>1</td>\n",
              "    </tr>\n",
              "  </tbody>\n",
              "</table>\n",
              "<p>668 rows × 10 columns</p>\n",
              "</div>\n",
              "      <button class=\"colab-df-convert\" onclick=\"convertToInteractive('df-b17799e1-2674-4186-8f9f-e728a2ae205f')\"\n",
              "              title=\"Convert this dataframe to an interactive table.\"\n",
              "              style=\"display:none;\">\n",
              "        \n",
              "  <svg xmlns=\"http://www.w3.org/2000/svg\" height=\"24px\"viewBox=\"0 0 24 24\"\n",
              "       width=\"24px\">\n",
              "    <path d=\"M0 0h24v24H0V0z\" fill=\"none\"/>\n",
              "    <path d=\"M18.56 5.44l.94 2.06.94-2.06 2.06-.94-2.06-.94-.94-2.06-.94 2.06-2.06.94zm-11 1L8.5 8.5l.94-2.06 2.06-.94-2.06-.94L8.5 2.5l-.94 2.06-2.06.94zm10 10l.94 2.06.94-2.06 2.06-.94-2.06-.94-.94-2.06-.94 2.06-2.06.94z\"/><path d=\"M17.41 7.96l-1.37-1.37c-.4-.4-.92-.59-1.43-.59-.52 0-1.04.2-1.43.59L10.3 9.45l-7.72 7.72c-.78.78-.78 2.05 0 2.83L4 21.41c.39.39.9.59 1.41.59.51 0 1.02-.2 1.41-.59l7.78-7.78 2.81-2.81c.8-.78.8-2.07 0-2.86zM5.41 20L4 18.59l7.72-7.72 1.47 1.35L5.41 20z\"/>\n",
              "  </svg>\n",
              "      </button>\n",
              "      \n",
              "  <style>\n",
              "    .colab-df-container {\n",
              "      display:flex;\n",
              "      flex-wrap:wrap;\n",
              "      gap: 12px;\n",
              "    }\n",
              "\n",
              "    .colab-df-convert {\n",
              "      background-color: #E8F0FE;\n",
              "      border: none;\n",
              "      border-radius: 50%;\n",
              "      cursor: pointer;\n",
              "      display: none;\n",
              "      fill: #1967D2;\n",
              "      height: 32px;\n",
              "      padding: 0 0 0 0;\n",
              "      width: 32px;\n",
              "    }\n",
              "\n",
              "    .colab-df-convert:hover {\n",
              "      background-color: #E2EBFA;\n",
              "      box-shadow: 0px 1px 2px rgba(60, 64, 67, 0.3), 0px 1px 3px 1px rgba(60, 64, 67, 0.15);\n",
              "      fill: #174EA6;\n",
              "    }\n",
              "\n",
              "    [theme=dark] .colab-df-convert {\n",
              "      background-color: #3B4455;\n",
              "      fill: #D2E3FC;\n",
              "    }\n",
              "\n",
              "    [theme=dark] .colab-df-convert:hover {\n",
              "      background-color: #434B5C;\n",
              "      box-shadow: 0px 1px 3px 1px rgba(0, 0, 0, 0.15);\n",
              "      filter: drop-shadow(0px 1px 2px rgba(0, 0, 0, 0.3));\n",
              "      fill: #FFFFFF;\n",
              "    }\n",
              "  </style>\n",
              "\n",
              "      <script>\n",
              "        const buttonEl =\n",
              "          document.querySelector('#df-b17799e1-2674-4186-8f9f-e728a2ae205f button.colab-df-convert');\n",
              "        buttonEl.style.display =\n",
              "          google.colab.kernel.accessAllowed ? 'block' : 'none';\n",
              "\n",
              "        async function convertToInteractive(key) {\n",
              "          const element = document.querySelector('#df-b17799e1-2674-4186-8f9f-e728a2ae205f');\n",
              "          const dataTable =\n",
              "            await google.colab.kernel.invokeFunction('convertToInteractive',\n",
              "                                                     [key], {});\n",
              "          if (!dataTable) return;\n",
              "\n",
              "          const docLinkHtml = 'Like what you see? Visit the ' +\n",
              "            '<a target=\"_blank\" href=https://colab.research.google.com/notebooks/data_table.ipynb>data table notebook</a>'\n",
              "            + ' to learn more about interactive tables.';\n",
              "          element.innerHTML = '';\n",
              "          dataTable['output_type'] = 'display_data';\n",
              "          await google.colab.output.renderOutput(dataTable, element);\n",
              "          const docLink = document.createElement('div');\n",
              "          docLink.innerHTML = docLinkHtml;\n",
              "          element.appendChild(docLink);\n",
              "        }\n",
              "      </script>\n",
              "    </div>\n",
              "  </div>\n",
              "  "
            ],
            "text/plain": [
              "      Id  A1   A2  A3  A4   A5    A6     A7  A8  Class\n",
              "0      1   6  148  72  35    0  33.6  0.627  50      1\n",
              "1      2   1   85  66  29    0  26.6  0.351  31      0\n",
              "2      3   8  183  64   0    0  23.3  0.672  32      1\n",
              "3      4   1   89  66  23   94  28.1  0.167  21      0\n",
              "4      5   0  137  40  35  168  43.1  2.288  33      1\n",
              "..   ...  ..  ...  ..  ..  ...   ...    ...  ..    ...\n",
              "663  664   9  145  80  46  130  37.9  0.637  40      1\n",
              "664  665   6  115  60  39    0  33.7  0.245  40      1\n",
              "665  666   1  112  80  45  132  34.8  0.217  24      0\n",
              "666  667   4  145  82  18    0  32.5  0.235  70      1\n",
              "667  668  10  111  70  27    0  27.5  0.141  40      1\n",
              "\n",
              "[668 rows x 10 columns]"
            ]
          },
          "metadata": {},
          "execution_count": 2
        }
      ]
    },
    {
      "cell_type": "code",
      "source": [
        "sns.countplot(x=data['Class'])"
      ],
      "metadata": {
        "colab": {
          "base_uri": "https://localhost:8080/",
          "height": 296
        },
        "id": "QGNqXyygZc7t",
        "outputId": "778d4e48-dadd-4a89-9ece-9168f672029e"
      },
      "execution_count": null,
      "outputs": [
        {
          "output_type": "execute_result",
          "data": {
            "text/plain": [
              "<matplotlib.axes._subplots.AxesSubplot at 0x7fdc69b8a250>"
            ]
          },
          "metadata": {},
          "execution_count": 3
        },
        {
          "output_type": "display_data",
          "data": {
            "image/png": "[encoded data removed]",
            "text/plain": [
              "<Figure size 432x288 with 1 Axes>"
            ]
          },
          "metadata": {
            "needs_background": "light"
          }
        }
      ]
    },
    {
      "cell_type": "markdown",
      "source": [
        "## **Splitting the Data**"
      ],
      "metadata": {
        "id": "4zWp43xpl86G"
      }
    },
    {
      "cell_type": "code",
      "source": [
        "# extract labels\n",
        "y = data['Class']\n",
        "y = pd.Series(y)\n",
        "print(y.value_counts())\n",
        "\n",
        "# remove unnecessary columns\n",
        "X = data.drop(['Id', 'Class'], axis=1)\n",
        "print(X.info())\n",
        "X.head()"
      ],
      "metadata": {
        "colab": {
          "base_uri": "https://localhost:8080/",
          "height": 536
        },
        "id": "jVwTlQb_bFVT",
        "outputId": "758894b9-f09e-4456-c046-5b9131b88b62"
      },
      "execution_count": null,
      "outputs": [
        {
          "output_type": "stream",
          "name": "stdout",
          "text": [
            "0    437\n",
            "1    231\n",
            "Name: Class, dtype: int64\n",
            "<class 'pandas.core.frame.DataFrame'>\n",
            "RangeIndex: 668 entries, 0 to 667\n",
            "Data columns (total 8 columns):\n",
            " #   Column  Non-Null Count  Dtype  \n",
            "---  ------  --------------  -----  \n",
            " 0   A1      668 non-null    int64  \n",
            " 1   A2      668 non-null    int64  \n",
            " 2   A3      668 non-null    int64  \n",
            " 3   A4      668 non-null    int64  \n",
            " 4   A5      668 non-null    int64  \n",
            " 5   A6      668 non-null    float64\n",
            " 6   A7      668 non-null    float64\n",
            " 7   A8      668 non-null    int64  \n",
            "dtypes: float64(2), int64(6)\n",
            "memory usage: 41.9 KB\n",
            "None\n"
          ]
        },
        {
          "output_type": "execute_result",
          "data": {
            "text/html": [
              "\n",
              "  <div id=\"df-04d94ede-8fb2-45d4-a27b-bdb8d0558d26\">\n",
              "    <div class=\"colab-df-container\">\n",
              "      <div>\n",
              "<style scoped>\n",
              "    .dataframe tbody tr th:only-of-type {\n",
              "        vertical-align: middle;\n",
              "    }\n",
              "\n",
              "    .dataframe tbody tr th {\n",
              "        vertical-align: top;\n",
              "    }\n",
              "\n",
              "    .dataframe thead th {\n",
              "        text-align: right;\n",
              "    }\n",
              "</style>\n",
              "<table border=\"1\" class=\"dataframe\">\n",
              "  <thead>\n",
              "    <tr style=\"text-align: right;\">\n",
              "      <th></th>\n",
              "      <th>A1</th>\n",
              "      <th>A2</th>\n",
              "      <th>A3</th>\n",
              "      <th>A4</th>\n",
              "      <th>A5</th>\n",
              "      <th>A6</th>\n",
              "      <th>A7</th>\n",
              "      <th>A8</th>\n",
              "    </tr>\n",
              "  </thead>\n",
              "  <tbody>\n",
              "    <tr>\n",
              "      <th>0</th>\n",
              "      <td>6</td>\n",
              "      <td>148</td>\n",
              "      <td>72</td>\n",
              "      <td>35</td>\n",
              "      <td>0</td>\n",
              "      <td>33.6</td>\n",
              "      <td>0.627</td>\n",
              "      <td>50</td>\n",
              "    </tr>\n",
              "    <tr>\n",
              "      <th>1</th>\n",
              "      <td>1</td>\n",
              "      <td>85</td>\n",
              "      <td>66</td>\n",
              "      <td>29</td>\n",
              "      <td>0</td>\n",
              "      <td>26.6</td>\n",
              "      <td>0.351</td>\n",
              "      <td>31</td>\n",
              "    </tr>\n",
              "    <tr>\n",
              "      <th>2</th>\n",
              "      <td>8</td>\n",
              "      <td>183</td>\n",
              "      <td>64</td>\n",
              "      <td>0</td>\n",
              "      <td>0</td>\n",
              "      <td>23.3</td>\n",
              "      <td>0.672</td>\n",
              "      <td>32</td>\n",
              "    </tr>\n",
              "    <tr>\n",
              "      <th>3</th>\n",
              "      <td>1</td>\n",
              "      <td>89</td>\n",
              "      <td>66</td>\n",
              "      <td>23</td>\n",
              "      <td>94</td>\n",
              "      <td>28.1</td>\n",
              "      <td>0.167</td>\n",
              "      <td>21</td>\n",
              "    </tr>\n",
              "    <tr>\n",
              "      <th>4</th>\n",
              "      <td>0</td>\n",
              "      <td>137</td>\n",
              "      <td>40</td>\n",
              "      <td>35</td>\n",
              "      <td>168</td>\n",
              "      <td>43.1</td>\n",
              "      <td>2.288</td>\n",
              "      <td>33</td>\n",
              "    </tr>\n",
              "  </tbody>\n",
              "</table>\n",
              "</div>\n",
              "      <button class=\"colab-df-convert\" onclick=\"convertToInteractive('df-04d94ede-8fb2-45d4-a27b-bdb8d0558d26')\"\n",
              "              title=\"Convert this dataframe to an interactive table.\"\n",
              "              style=\"display:none;\">\n",
              "        \n",
              "  <svg xmlns=\"http://www.w3.org/2000/svg\" height=\"24px\"viewBox=\"0 0 24 24\"\n",
              "       width=\"24px\">\n",
              "    <path d=\"M0 0h24v24H0V0z\" fill=\"none\"/>\n",
              "    <path d=\"M18.56 5.44l.94 2.06.94-2.06 2.06-.94-2.06-.94-.94-2.06-.94 2.06-2.06.94zm-11 1L8.5 8.5l.94-2.06 2.06-.94-2.06-.94L8.5 2.5l-.94 2.06-2.06.94zm10 10l.94 2.06.94-2.06 2.06-.94-2.06-.94-.94-2.06-.94 2.06-2.06.94z\"/><path d=\"M17.41 7.96l-1.37-1.37c-.4-.4-.92-.59-1.43-.59-.52 0-1.04.2-1.43.59L10.3 9.45l-7.72 7.72c-.78.78-.78 2.05 0 2.83L4 21.41c.39.39.9.59 1.41.59.51 0 1.02-.2 1.41-.59l7.78-7.78 2.81-2.81c.8-.78.8-2.07 0-2.86zM5.41 20L4 18.59l7.72-7.72 1.47 1.35L5.41 20z\"/>\n",
              "  </svg>\n",
              "      </button>\n",
              "      \n",
              "  <style>\n",
              "    .colab-df-container {\n",
              "      display:flex;\n",
              "      flex-wrap:wrap;\n",
              "      gap: 12px;\n",
              "    }\n",
              "\n",
              "    .colab-df-convert {\n",
              "      background-color: #E8F0FE;\n",
              "      border: none;\n",
              "      border-radius: 50%;\n",
              "      cursor: pointer;\n",
              "      display: none;\n",
              "      fill: #1967D2;\n",
              "      height: 32px;\n",
              "      padding: 0 0 0 0;\n",
              "      width: 32px;\n",
              "    }\n",
              "\n",
              "    .colab-df-convert:hover {\n",
              "      background-color: #E2EBFA;\n",
              "      box-shadow: 0px 1px 2px rgba(60, 64, 67, 0.3), 0px 1px 3px 1px rgba(60, 64, 67, 0.15);\n",
              "      fill: #174EA6;\n",
              "    }\n",
              "\n",
              "    [theme=dark] .colab-df-convert {\n",
              "      background-color: #3B4455;\n",
              "      fill: #D2E3FC;\n",
              "    }\n",
              "\n",
              "    [theme=dark] .colab-df-convert:hover {\n",
              "      background-color: #434B5C;\n",
              "      box-shadow: 0px 1px 3px 1px rgba(0, 0, 0, 0.15);\n",
              "      filter: drop-shadow(0px 1px 2px rgba(0, 0, 0, 0.3));\n",
              "      fill: #FFFFFF;\n",
              "    }\n",
              "  </style>\n",
              "\n",
              "      <script>\n",
              "        const buttonEl =\n",
              "          document.querySelector('#df-04d94ede-8fb2-45d4-a27b-bdb8d0558d26 button.colab-df-convert');\n",
              "        buttonEl.style.display =\n",
              "          google.colab.kernel.accessAllowed ? 'block' : 'none';\n",
              "\n",
              "        async function convertToInteractive(key) {\n",
              "          const element = document.querySelector('#df-04d94ede-8fb2-45d4-a27b-bdb8d0558d26');\n",
              "          const dataTable =\n",
              "            await google.colab.kernel.invokeFunction('convertToInteractive',\n",
              "                                                     [key], {});\n",
              "          if (!dataTable) return;\n",
              "\n",
              "          const docLinkHtml = 'Like what you see? Visit the ' +\n",
              "            '<a target=\"_blank\" href=https://colab.research.google.com/notebooks/data_table.ipynb>data table notebook</a>'\n",
              "            + ' to learn more about interactive tables.';\n",
              "          element.innerHTML = '';\n",
              "          dataTable['output_type'] = 'display_data';\n",
              "          await google.colab.output.renderOutput(dataTable, element);\n",
              "          const docLink = document.createElement('div');\n",
              "          docLink.innerHTML = docLinkHtml;\n",
              "          element.appendChild(docLink);\n",
              "        }\n",
              "      </script>\n",
              "    </div>\n",
              "  </div>\n",
              "  "
            ],
            "text/plain": [
              "   A1   A2  A3  A4   A5    A6     A7  A8\n",
              "0   6  148  72  35    0  33.6  0.627  50\n",
              "1   1   85  66  29    0  26.6  0.351  31\n",
              "2   8  183  64   0    0  23.3  0.672  32\n",
              "3   1   89  66  23   94  28.1  0.167  21\n",
              "4   0  137  40  35  168  43.1  2.288  33"
            ]
          },
          "metadata": {},
          "execution_count": 4
        }
      ]
    },
    {
      "cell_type": "code",
      "source": [
        "# split data to train and validation sets\n",
        "X_train1, X_val1, y_train1, y_val1 = train_test_split(X, y, test_size=0.3, random_state=100)\n",
        "print(f'training data set size: {len(X_train1)}')\n",
        "print(f'validation data set size: {len(X_val1)}')"
      ],
      "metadata": {
        "id": "riQywpRcbcqH",
        "colab": {
          "base_uri": "https://localhost:8080/"
        },
        "outputId": "c23a5aa5-4334-44ce-8c24-d49ae3ceff35"
      },
      "execution_count": null,
      "outputs": [
        {
          "output_type": "stream",
          "name": "stdout",
          "text": [
            "training data set size: 467\n",
            "validation data set size: 201\n"
          ]
        }
      ]
    },
    {
      "cell_type": "markdown",
      "source": [
        "## **Building the Model**"
      ],
      "metadata": {
        "id": "Xjs2NgdDmcqS"
      }
    },
    {
      "cell_type": "code",
      "source": [
        "# define the keras model\n",
        "model1 = Sequential()\n",
        "model1.add(Dense(units=64, input_dim=8, activation='relu'))\n",
        "model1.add(Dense(units=32, activation='relu'))\n",
        "#model1.add(Dense(units=80, activation='relu'))\n",
        "model1.add(Dense(1, activation='sigmoid'))\n",
        "\n",
        "model1.summary()"
      ],
      "metadata": {
        "id": "pFZDAuWDbhfo",
        "colab": {
          "base_uri": "https://localhost:8080/"
        },
        "outputId": "163ea4b1-e5e1-4d1a-90ac-ef2dc9b207c9"
      },
      "execution_count": null,
      "outputs": [
        {
          "output_type": "stream",
          "name": "stdout",
          "text": [
            "Model: \"sequential_2\"\n",
            "_________________________________________________________________\n",
            " Layer (type)                Output Shape              Param #   \n",
            "=================================================================\n",
            " dense_6 (Dense)             (None, 64)                576       \n",
            "                                                                 \n",
            " dense_7 (Dense)             (None, 32)                2080      \n",
            "                                                                 \n",
            " dense_8 (Dense)             (None, 1)                 33        \n",
            "                                                                 \n",
            "=================================================================\n",
            "Total params: 2,689\n",
            "Trainable params: 2,689\n",
            "Non-trainable params: 0\n",
            "_________________________________________________________________\n"
          ]
        }
      ]
    },
    {
      "cell_type": "code",
      "source": [
        "# compile the keras model\n",
        "import tensorflow as tf\n",
        "# create an optimiser object and set the learning rate\n",
        "opt = tf.keras.optimizers.Adam(learning_rate=0.01)\n"
      ],
      "metadata": {
        "id": "c7qzW6BpbjhA"
      },
      "execution_count": null,
      "outputs": []
    },
    {
      "cell_type": "code",
      "source": [
        "# Compile the model with the optimiser object\n",
        "model1.compile(loss='binary_crossentropy', optimizer=opt, metrics=['accuracy'])"
      ],
      "metadata": {
        "id": "Jqd_boQum6jt"
      },
      "execution_count": null,
      "outputs": []
    },
    {
      "cell_type": "code",
      "source": [
        "# train model\n",
        "history = model1.fit(X_train1, y_train1, batch_size=10, epochs=60, validation_data=(X_val1, y_val1))\n",
        "\n"
      ],
      "metadata": {
        "id": "9SvBvzI8blby",
        "colab": {
          "base_uri": "https://localhost:8080/"
        },
        "outputId": "e38a85bd-c7e2-47a8-d356-0a109b02d457"
      },
      "execution_count": null,
      "outputs": [
        {
          "output_type": "stream",
          "name": "stdout",
          "text": [
            "Epoch 1/60\n",
            "47/47 [==============================] - 1s 9ms/step - loss: 5.3584 - accuracy: 0.5717 - val_loss: 0.9888 - val_accuracy: 0.5423\n",
            "Epoch 2/60\n",
            "47/47 [==============================] - 0s 6ms/step - loss: 0.8547 - accuracy: 0.5739 - val_loss: 0.7388 - val_accuracy: 0.6169\n",
            "Epoch 3/60\n",
            "47/47 [==============================] - 0s 5ms/step - loss: 0.7297 - accuracy: 0.6574 - val_loss: 0.6835 - val_accuracy: 0.6965\n",
            "Epoch 4/60\n",
            "47/47 [==============================] - 0s 5ms/step - loss: 0.8410 - accuracy: 0.6253 - val_loss: 0.6088 - val_accuracy: 0.6667\n",
            "Epoch 5/60\n",
            "47/47 [==============================] - 0s 6ms/step - loss: 0.6450 - accuracy: 0.6660 - val_loss: 0.8845 - val_accuracy: 0.6219\n",
            "Epoch 6/60\n",
            "47/47 [==============================] - 0s 5ms/step - loss: 0.7280 - accuracy: 0.6681 - val_loss: 0.5929 - val_accuracy: 0.7164\n",
            "Epoch 7/60\n",
            "47/47 [==============================] - 0s 6ms/step - loss: 0.6170 - accuracy: 0.7066 - val_loss: 0.5896 - val_accuracy: 0.7065\n",
            "Epoch 8/60\n",
            "47/47 [==============================] - 0s 6ms/step - loss: 0.6108 - accuracy: 0.6831 - val_loss: 0.5943 - val_accuracy: 0.6915\n",
            "Epoch 9/60\n",
            "47/47 [==============================] - 0s 6ms/step - loss: 0.6152 - accuracy: 0.7045 - val_loss: 0.5798 - val_accuracy: 0.6866\n",
            "Epoch 10/60\n",
            "47/47 [==============================] - 0s 6ms/step - loss: 0.5775 - accuracy: 0.6874 - val_loss: 0.5867 - val_accuracy: 0.6965\n",
            "Epoch 11/60\n",
            "47/47 [==============================] - 0s 5ms/step - loss: 0.5706 - accuracy: 0.7045 - val_loss: 0.6007 - val_accuracy: 0.7214\n",
            "Epoch 12/60\n",
            "47/47 [==============================] - 0s 6ms/step - loss: 0.6011 - accuracy: 0.7131 - val_loss: 0.6196 - val_accuracy: 0.6866\n",
            "Epoch 13/60\n",
            "47/47 [==============================] - 0s 6ms/step - loss: 0.6235 - accuracy: 0.6745 - val_loss: 0.5657 - val_accuracy: 0.7164\n",
            "Epoch 14/60\n",
            "47/47 [==============================] - 0s 6ms/step - loss: 0.5699 - accuracy: 0.7195 - val_loss: 0.5467 - val_accuracy: 0.7264\n",
            "Epoch 15/60\n",
            "47/47 [==============================] - 0s 6ms/step - loss: 0.5907 - accuracy: 0.7024 - val_loss: 0.5496 - val_accuracy: 0.7313\n",
            "Epoch 16/60\n",
            "47/47 [==============================] - 0s 6ms/step - loss: 0.5611 - accuracy: 0.7238 - val_loss: 0.6045 - val_accuracy: 0.7164\n",
            "Epoch 17/60\n",
            "47/47 [==============================] - 0s 6ms/step - loss: 0.5563 - accuracy: 0.7195 - val_loss: 0.5506 - val_accuracy: 0.7313\n",
            "Epoch 18/60\n",
            "47/47 [==============================] - 0s 6ms/step - loss: 0.5377 - accuracy: 0.7238 - val_loss: 0.5689 - val_accuracy: 0.7413\n",
            "Epoch 19/60\n",
            "47/47 [==============================] - 0s 5ms/step - loss: 0.5492 - accuracy: 0.7195 - val_loss: 0.5520 - val_accuracy: 0.7512\n",
            "Epoch 20/60\n",
            "47/47 [==============================] - 0s 5ms/step - loss: 0.5362 - accuracy: 0.7131 - val_loss: 0.5523 - val_accuracy: 0.7363\n",
            "Epoch 21/60\n",
            "47/47 [==============================] - 0s 6ms/step - loss: 0.5591 - accuracy: 0.7045 - val_loss: 0.5940 - val_accuracy: 0.7413\n",
            "Epoch 22/60\n",
            "47/47 [==============================] - 0s 5ms/step - loss: 0.5329 - accuracy: 0.7302 - val_loss: 0.5555 - val_accuracy: 0.7662\n",
            "Epoch 23/60\n",
            "47/47 [==============================] - 0s 6ms/step - loss: 0.5429 - accuracy: 0.7152 - val_loss: 0.6379 - val_accuracy: 0.6866\n",
            "Epoch 24/60\n",
            "47/47 [==============================] - 0s 6ms/step - loss: 0.5749 - accuracy: 0.7066 - val_loss: 0.5716 - val_accuracy: 0.7463\n",
            "Epoch 25/60\n",
            "47/47 [==============================] - 0s 6ms/step - loss: 0.5208 - accuracy: 0.7388 - val_loss: 0.5450 - val_accuracy: 0.7662\n",
            "Epoch 26/60\n",
            "47/47 [==============================] - 0s 6ms/step - loss: 0.5506 - accuracy: 0.7131 - val_loss: 0.5712 - val_accuracy: 0.7214\n",
            "Epoch 27/60\n",
            "47/47 [==============================] - 0s 6ms/step - loss: 0.5448 - accuracy: 0.7259 - val_loss: 0.5603 - val_accuracy: 0.7114\n",
            "Epoch 28/60\n",
            "47/47 [==============================] - 0s 6ms/step - loss: 0.5501 - accuracy: 0.7281 - val_loss: 0.6386 - val_accuracy: 0.6965\n",
            "Epoch 29/60\n",
            "47/47 [==============================] - 0s 5ms/step - loss: 0.5488 - accuracy: 0.7131 - val_loss: 0.5490 - val_accuracy: 0.7662\n",
            "Epoch 30/60\n",
            "47/47 [==============================] - 0s 6ms/step - loss: 0.5324 - accuracy: 0.7345 - val_loss: 0.5510 - val_accuracy: 0.7662\n",
            "Epoch 31/60\n",
            "47/47 [==============================] - 0s 6ms/step - loss: 0.5302 - accuracy: 0.7366 - val_loss: 0.5800 - val_accuracy: 0.7164\n",
            "Epoch 32/60\n",
            "47/47 [==============================] - 0s 6ms/step - loss: 0.5251 - accuracy: 0.7366 - val_loss: 0.5984 - val_accuracy: 0.7264\n",
            "Epoch 33/60\n",
            "47/47 [==============================] - 0s 6ms/step - loss: 0.5271 - accuracy: 0.7345 - val_loss: 0.5778 - val_accuracy: 0.7413\n",
            "Epoch 34/60\n",
            "47/47 [==============================] - 0s 6ms/step - loss: 0.5328 - accuracy: 0.7195 - val_loss: 0.5677 - val_accuracy: 0.7811\n",
            "Epoch 35/60\n",
            "47/47 [==============================] - 0s 6ms/step - loss: 0.5539 - accuracy: 0.7281 - val_loss: 0.5856 - val_accuracy: 0.7662\n",
            "Epoch 36/60\n",
            "47/47 [==============================] - 0s 6ms/step - loss: 0.5309 - accuracy: 0.7259 - val_loss: 0.5548 - val_accuracy: 0.7562\n",
            "Epoch 37/60\n",
            "47/47 [==============================] - 0s 6ms/step - loss: 0.5111 - accuracy: 0.7323 - val_loss: 0.5542 - val_accuracy: 0.7562\n",
            "Epoch 38/60\n",
            "47/47 [==============================] - 0s 6ms/step - loss: 0.5214 - accuracy: 0.7302 - val_loss: 0.5529 - val_accuracy: 0.7313\n",
            "Epoch 39/60\n",
            "47/47 [==============================] - 0s 5ms/step - loss: 0.5221 - accuracy: 0.7388 - val_loss: 0.5574 - val_accuracy: 0.7662\n",
            "Epoch 40/60\n",
            "47/47 [==============================] - 0s 6ms/step - loss: 0.5459 - accuracy: 0.7281 - val_loss: 0.5523 - val_accuracy: 0.7512\n",
            "Epoch 41/60\n",
            "47/47 [==============================] - 0s 5ms/step - loss: 0.5173 - accuracy: 0.7430 - val_loss: 0.6234 - val_accuracy: 0.7164\n",
            "Epoch 42/60\n",
            "47/47 [==============================] - 0s 6ms/step - loss: 0.5209 - accuracy: 0.7430 - val_loss: 0.5445 - val_accuracy: 0.7512\n",
            "Epoch 43/60\n",
            "47/47 [==============================] - 0s 6ms/step - loss: 0.5318 - accuracy: 0.7495 - val_loss: 0.5392 - val_accuracy: 0.7562\n",
            "Epoch 44/60\n",
            "47/47 [==============================] - 0s 5ms/step - loss: 0.5114 - accuracy: 0.7559 - val_loss: 0.5330 - val_accuracy: 0.7612\n",
            "Epoch 45/60\n",
            "47/47 [==============================] - 0s 8ms/step - loss: 0.5216 - accuracy: 0.7388 - val_loss: 0.5317 - val_accuracy: 0.7761\n",
            "Epoch 46/60\n",
            "47/47 [==============================] - 0s 5ms/step - loss: 0.5123 - accuracy: 0.7345 - val_loss: 0.5285 - val_accuracy: 0.7662\n",
            "Epoch 47/60\n",
            "47/47 [==============================] - 0s 6ms/step - loss: 0.5416 - accuracy: 0.7173 - val_loss: 0.5359 - val_accuracy: 0.7711\n",
            "Epoch 48/60\n",
            "47/47 [==============================] - 0s 6ms/step - loss: 0.5313 - accuracy: 0.7302 - val_loss: 0.5404 - val_accuracy: 0.7711\n",
            "Epoch 49/60\n",
            "47/47 [==============================] - 0s 6ms/step - loss: 0.5255 - accuracy: 0.7409 - val_loss: 0.5348 - val_accuracy: 0.7662\n",
            "Epoch 50/60\n",
            "47/47 [==============================] - 0s 5ms/step - loss: 0.4988 - accuracy: 0.7366 - val_loss: 0.5647 - val_accuracy: 0.7612\n",
            "Epoch 51/60\n",
            "47/47 [==============================] - 0s 6ms/step - loss: 0.4997 - accuracy: 0.7516 - val_loss: 0.5835 - val_accuracy: 0.6965\n",
            "Epoch 52/60\n",
            "47/47 [==============================] - 0s 6ms/step - loss: 0.5199 - accuracy: 0.7388 - val_loss: 0.5387 - val_accuracy: 0.7562\n",
            "Epoch 53/60\n",
            "47/47 [==============================] - 0s 6ms/step - loss: 0.4990 - accuracy: 0.7602 - val_loss: 0.5421 - val_accuracy: 0.7662\n",
            "Epoch 54/60\n",
            "47/47 [==============================] - 0s 6ms/step - loss: 0.4942 - accuracy: 0.7645 - val_loss: 0.5979 - val_accuracy: 0.7214\n",
            "Epoch 55/60\n",
            "47/47 [==============================] - 0s 6ms/step - loss: 0.5513 - accuracy: 0.7066 - val_loss: 0.5566 - val_accuracy: 0.7711\n",
            "Epoch 56/60\n",
            "47/47 [==============================] - 0s 6ms/step - loss: 0.4996 - accuracy: 0.7623 - val_loss: 0.5618 - val_accuracy: 0.7711\n",
            "Epoch 57/60\n",
            "47/47 [==============================] - 0s 6ms/step - loss: 0.5060 - accuracy: 0.7580 - val_loss: 0.5594 - val_accuracy: 0.7065\n",
            "Epoch 58/60\n",
            "47/47 [==============================] - 0s 6ms/step - loss: 0.5208 - accuracy: 0.7580 - val_loss: 0.5311 - val_accuracy: 0.7512\n",
            "Epoch 59/60\n",
            "47/47 [==============================] - 0s 6ms/step - loss: 0.5159 - accuracy: 0.7430 - val_loss: 0.5352 - val_accuracy: 0.7612\n",
            "Epoch 60/60\n",
            "47/47 [==============================] - 0s 6ms/step - loss: 0.4948 - accuracy: 0.7580 - val_loss: 0.5473 - val_accuracy: 0.7264\n"
          ]
        }
      ]
    },
    {
      "cell_type": "markdown",
      "source": [
        "## **Plotting the graph**"
      ],
      "metadata": {
        "id": "loIO1IxTnAzf"
      }
    },
    {
      "cell_type": "code",
      "source": [
        "# summarize the history for accuracy\n",
        "plt.plot(history.history['accuracy'])\n",
        "plt.plot(history.history['val_accuracy'])\n",
        "plt.title('model accuracy')\n",
        "plt.ylabel('accuracy')\n",
        "plt.xlabel('epoch')\n",
        "plt.legend(['train','test'], loc='upper left')\n",
        "plt.show()\n",
        "\n",
        "# summarize the history for loss\n",
        "plt.plot(history.history['loss'])\n",
        "plt.plot(history.history['val_loss'])\n",
        "plt.title('model loss')\n",
        "plt.ylabel('loss')\n",
        "plt.xlabel('epoch')\n",
        "plt.legend(['train','test'], loc='upper left')\n",
        "plt.show()"
      ],
      "metadata": {
        "id": "SO68BqpIcPjF",
        "colab": {
          "base_uri": "https://localhost:8080/",
          "height": 573
        },
        "outputId": "e85cc86f-e425-4e53-ceb9-931216542279"
      },
      "execution_count": null,
      "outputs": [
        {
          "output_type": "display_data",
          "data": {
            "image/png": "[encoded data removed]",
            "text/plain": [
              "<Figure size 432x288 with 1 Axes>"
            ]
          },
          "metadata": {
            "needs_background": "light"
          }
        },
        {
          "output_type": "display_data",
          "data": {
            "image/png": "[encoded data removed]",
            "text/plain": [
              "<Figure size 432x288 with 1 Axes>"
            ]
          },
          "metadata": {
            "needs_background": "light"
          }
        }
      ]
    },
    {
      "cell_type": "markdown",
      "source": [
        "### **Validate the model**"
      ],
      "metadata": {
        "id": "Vu4WPu1KcJxE"
      }
    },
    {
      "cell_type": "code",
      "source": [
        "# get model predictions\n",
        "y_pred1 = model1.predict(X_val1)\n",
        "print(y_pred1[:10])"
      ],
      "metadata": {
        "id": "XOSR5y1Bfg9C",
        "colab": {
          "base_uri": "https://localhost:8080/"
        },
        "outputId": "38833e00-df1f-4fdd-fc46-859dba9f98e1"
      },
      "execution_count": null,
      "outputs": [
        {
          "output_type": "stream",
          "name": "stdout",
          "text": [
            "[[0.24326558]\n",
            " [0.81433177]\n",
            " [0.31139174]\n",
            " [0.22917213]\n",
            " [0.6922284 ]\n",
            " [0.01657616]\n",
            " [0.60635406]\n",
            " [0.2654938 ]\n",
            " [0.57249874]\n",
            " [0.12998994]]\n"
          ]
        }
      ]
    },
    {
      "cell_type": "code",
      "source": [
        "# convert to categorical predictions\n",
        "y_pred_categorical1 = [1 if pred > 0.5 else 0 for pred in y_pred1]\n",
        "print(y_pred_categorical1[:10])"
      ],
      "metadata": {
        "id": "EnxOOzECfn5t",
        "colab": {
          "base_uri": "https://localhost:8080/"
        },
        "outputId": "1ac3793e-4a15-442e-f5b0-5c287b426159"
      },
      "execution_count": null,
      "outputs": [
        {
          "output_type": "stream",
          "name": "stdout",
          "text": [
            "[0, 1, 0, 0, 1, 0, 1, 0, 1, 0]\n"
          ]
        }
      ]
    },
    {
      "cell_type": "code",
      "source": [
        "# measure accuracy\n",
        "accuracy = metrics.accuracy_score(y_val1, y_pred_categorical1)\n",
        "print(f'Accuracy: {accuracy}')"
      ],
      "metadata": {
        "id": "jCz-3PCefqWv",
        "colab": {
          "base_uri": "https://localhost:8080/"
        },
        "outputId": "807e5106-adf3-467f-cd8d-daa5ee576b4e"
      },
      "execution_count": null,
      "outputs": [
        {
          "output_type": "stream",
          "name": "stdout",
          "text": [
            "Accuracy: 0.7263681592039801\n"
          ]
        }
      ]
    },
    {
      "cell_type": "markdown",
      "source": [
        "\n",
        "## **Test Prediction**"
      ],
      "metadata": {
        "id": "HkduvaryfsNU"
      }
    },
    {
      "cell_type": "code",
      "source": [
        "df_test = pd.read_csv('/content/test.csv')\n",
        "df_test\n"
      ],
      "metadata": {
        "id": "da3MVvcagDq1",
        "colab": {
          "base_uri": "https://localhost:8080/",
          "height": 423
        },
        "outputId": "d941283c-7bd9-4933-fc9c-dc140e0732ab"
      },
      "execution_count": null,
      "outputs": [
        {
          "output_type": "execute_result",
          "data": {
            "text/html": [
              "\n",
              "  <div id=\"df-3db5220e-784a-4179-894a-89b3a01159c4\">\n",
              "    <div class=\"colab-df-container\">\n",
              "      <div>\n",
              "<style scoped>\n",
              "    .dataframe tbody tr th:only-of-type {\n",
              "        vertical-align: middle;\n",
              "    }\n",
              "\n",
              "    .dataframe tbody tr th {\n",
              "        vertical-align: top;\n",
              "    }\n",
              "\n",
              "    .dataframe thead th {\n",
              "        text-align: right;\n",
              "    }\n",
              "</style>\n",
              "<table border=\"1\" class=\"dataframe\">\n",
              "  <thead>\n",
              "    <tr style=\"text-align: right;\">\n",
              "      <th></th>\n",
              "      <th>Id</th>\n",
              "      <th>A1</th>\n",
              "      <th>A2</th>\n",
              "      <th>A3</th>\n",
              "      <th>A4</th>\n",
              "      <th>A5</th>\n",
              "      <th>A6</th>\n",
              "      <th>A7</th>\n",
              "      <th>A8</th>\n",
              "    </tr>\n",
              "  </thead>\n",
              "  <tbody>\n",
              "    <tr>\n",
              "      <th>0</th>\n",
              "      <td>1</td>\n",
              "      <td>6</td>\n",
              "      <td>98</td>\n",
              "      <td>58</td>\n",
              "      <td>33</td>\n",
              "      <td>190</td>\n",
              "      <td>34.0</td>\n",
              "      <td>0.430</td>\n",
              "      <td>43</td>\n",
              "    </tr>\n",
              "    <tr>\n",
              "      <th>1</th>\n",
              "      <td>2</td>\n",
              "      <td>9</td>\n",
              "      <td>154</td>\n",
              "      <td>78</td>\n",
              "      <td>30</td>\n",
              "      <td>100</td>\n",
              "      <td>30.9</td>\n",
              "      <td>0.164</td>\n",
              "      <td>45</td>\n",
              "    </tr>\n",
              "    <tr>\n",
              "      <th>2</th>\n",
              "      <td>3</td>\n",
              "      <td>6</td>\n",
              "      <td>165</td>\n",
              "      <td>68</td>\n",
              "      <td>26</td>\n",
              "      <td>168</td>\n",
              "      <td>33.6</td>\n",
              "      <td>0.631</td>\n",
              "      <td>49</td>\n",
              "    </tr>\n",
              "    <tr>\n",
              "      <th>3</th>\n",
              "      <td>4</td>\n",
              "      <td>1</td>\n",
              "      <td>99</td>\n",
              "      <td>58</td>\n",
              "      <td>10</td>\n",
              "      <td>0</td>\n",
              "      <td>25.4</td>\n",
              "      <td>0.551</td>\n",
              "      <td>21</td>\n",
              "    </tr>\n",
              "    <tr>\n",
              "      <th>4</th>\n",
              "      <td>5</td>\n",
              "      <td>10</td>\n",
              "      <td>68</td>\n",
              "      <td>106</td>\n",
              "      <td>23</td>\n",
              "      <td>49</td>\n",
              "      <td>35.5</td>\n",
              "      <td>0.285</td>\n",
              "      <td>47</td>\n",
              "    </tr>\n",
              "    <tr>\n",
              "      <th>...</th>\n",
              "      <td>...</td>\n",
              "      <td>...</td>\n",
              "      <td>...</td>\n",
              "      <td>...</td>\n",
              "      <td>...</td>\n",
              "      <td>...</td>\n",
              "      <td>...</td>\n",
              "      <td>...</td>\n",
              "      <td>...</td>\n",
              "    </tr>\n",
              "    <tr>\n",
              "      <th>95</th>\n",
              "      <td>96</td>\n",
              "      <td>10</td>\n",
              "      <td>101</td>\n",
              "      <td>76</td>\n",
              "      <td>48</td>\n",
              "      <td>180</td>\n",
              "      <td>32.9</td>\n",
              "      <td>0.171</td>\n",
              "      <td>63</td>\n",
              "    </tr>\n",
              "    <tr>\n",
              "      <th>96</th>\n",
              "      <td>97</td>\n",
              "      <td>2</td>\n",
              "      <td>122</td>\n",
              "      <td>70</td>\n",
              "      <td>27</td>\n",
              "      <td>0</td>\n",
              "      <td>36.8</td>\n",
              "      <td>0.340</td>\n",
              "      <td>27</td>\n",
              "    </tr>\n",
              "    <tr>\n",
              "      <th>97</th>\n",
              "      <td>98</td>\n",
              "      <td>5</td>\n",
              "      <td>121</td>\n",
              "      <td>72</td>\n",
              "      <td>23</td>\n",
              "      <td>112</td>\n",
              "      <td>26.2</td>\n",
              "      <td>0.245</td>\n",
              "      <td>30</td>\n",
              "    </tr>\n",
              "    <tr>\n",
              "      <th>98</th>\n",
              "      <td>99</td>\n",
              "      <td>1</td>\n",
              "      <td>126</td>\n",
              "      <td>60</td>\n",
              "      <td>0</td>\n",
              "      <td>0</td>\n",
              "      <td>30.1</td>\n",
              "      <td>0.349</td>\n",
              "      <td>47</td>\n",
              "    </tr>\n",
              "    <tr>\n",
              "      <th>99</th>\n",
              "      <td>100</td>\n",
              "      <td>1</td>\n",
              "      <td>93</td>\n",
              "      <td>70</td>\n",
              "      <td>31</td>\n",
              "      <td>0</td>\n",
              "      <td>30.4</td>\n",
              "      <td>0.315</td>\n",
              "      <td>23</td>\n",
              "    </tr>\n",
              "  </tbody>\n",
              "</table>\n",
              "<p>100 rows × 9 columns</p>\n",
              "</div>\n",
              "      <button class=\"colab-df-convert\" onclick=\"convertToInteractive('df-3db5220e-784a-4179-894a-89b3a01159c4')\"\n",
              "              title=\"Convert this dataframe to an interactive table.\"\n",
              "              style=\"display:none;\">\n",
              "        \n",
              "  <svg xmlns=\"http://www.w3.org/2000/svg\" height=\"24px\"viewBox=\"0 0 24 24\"\n",
              "       width=\"24px\">\n",
              "    <path d=\"M0 0h24v24H0V0z\" fill=\"none\"/>\n",
              "    <path d=\"M18.56 5.44l.94 2.06.94-2.06 2.06-.94-2.06-.94-.94-2.06-.94 2.06-2.06.94zm-11 1L8.5 8.5l.94-2.06 2.06-.94-2.06-.94L8.5 2.5l-.94 2.06-2.06.94zm10 10l.94 2.06.94-2.06 2.06-.94-2.06-.94-.94-2.06-.94 2.06-2.06.94z\"/><path d=\"M17.41 7.96l-1.37-1.37c-.4-.4-.92-.59-1.43-.59-.52 0-1.04.2-1.43.59L10.3 9.45l-7.72 7.72c-.78.78-.78 2.05 0 2.83L4 21.41c.39.39.9.59 1.41.59.51 0 1.02-.2 1.41-.59l7.78-7.78 2.81-2.81c.8-.78.8-2.07 0-2.86zM5.41 20L4 18.59l7.72-7.72 1.47 1.35L5.41 20z\"/>\n",
              "  </svg>\n",
              "      </button>\n",
              "      \n",
              "  <style>\n",
              "    .colab-df-container {\n",
              "      display:flex;\n",
              "      flex-wrap:wrap;\n",
              "      gap: 12px;\n",
              "    }\n",
              "\n",
              "    .colab-df-convert {\n",
              "      background-color: #E8F0FE;\n",
              "      border: none;\n",
              "      border-radius: 50%;\n",
              "      cursor: pointer;\n",
              "      display: none;\n",
              "      fill: #1967D2;\n",
              "      height: 32px;\n",
              "      padding: 0 0 0 0;\n",
              "      width: 32px;\n",
              "    }\n",
              "\n",
              "    .colab-df-convert:hover {\n",
              "      background-color: #E2EBFA;\n",
              "      box-shadow: 0px 1px 2px rgba(60, 64, 67, 0.3), 0px 1px 3px 1px rgba(60, 64, 67, 0.15);\n",
              "      fill: #174EA6;\n",
              "    }\n",
              "\n",
              "    [theme=dark] .colab-df-convert {\n",
              "      background-color: #3B4455;\n",
              "      fill: #D2E3FC;\n",
              "    }\n",
              "\n",
              "    [theme=dark] .colab-df-convert:hover {\n",
              "      background-color: #434B5C;\n",
              "      box-shadow: 0px 1px 3px 1px rgba(0, 0, 0, 0.15);\n",
              "      filter: drop-shadow(0px 1px 2px rgba(0, 0, 0, 0.3));\n",
              "      fill: #FFFFFF;\n",
              "    }\n",
              "  </style>\n",
              "\n",
              "      <script>\n",
              "        const buttonEl =\n",
              "          document.querySelector('#df-3db5220e-784a-4179-894a-89b3a01159c4 button.colab-df-convert');\n",
              "        buttonEl.style.display =\n",
              "          google.colab.kernel.accessAllowed ? 'block' : 'none';\n",
              "\n",
              "        async function convertToInteractive(key) {\n",
              "          const element = document.querySelector('#df-3db5220e-784a-4179-894a-89b3a01159c4');\n",
              "          const dataTable =\n",
              "            await google.colab.kernel.invokeFunction('convertToInteractive',\n",
              "                                                     [key], {});\n",
              "          if (!dataTable) return;\n",
              "\n",
              "          const docLinkHtml = 'Like what you see? Visit the ' +\n",
              "            '<a target=\"_blank\" href=https://colab.research.google.com/notebooks/data_table.ipynb>data table notebook</a>'\n",
              "            + ' to learn more about interactive tables.';\n",
              "          element.innerHTML = '';\n",
              "          dataTable['output_type'] = 'display_data';\n",
              "          await google.colab.output.renderOutput(dataTable, element);\n",
              "          const docLink = document.createElement('div');\n",
              "          docLink.innerHTML = docLinkHtml;\n",
              "          element.appendChild(docLink);\n",
              "        }\n",
              "      </script>\n",
              "    </div>\n",
              "  </div>\n",
              "  "
            ],
            "text/plain": [
              "     Id  A1   A2   A3  A4   A5    A6     A7  A8\n",
              "0     1   6   98   58  33  190  34.0  0.430  43\n",
              "1     2   9  154   78  30  100  30.9  0.164  45\n",
              "2     3   6  165   68  26  168  33.6  0.631  49\n",
              "3     4   1   99   58  10    0  25.4  0.551  21\n",
              "4     5  10   68  106  23   49  35.5  0.285  47\n",
              "..  ...  ..  ...  ...  ..  ...   ...    ...  ..\n",
              "95   96  10  101   76  48  180  32.9  0.171  63\n",
              "96   97   2  122   70  27    0  36.8  0.340  27\n",
              "97   98   5  121   72  23  112  26.2  0.245  30\n",
              "98   99   1  126   60   0    0  30.1  0.349  47\n",
              "99  100   1   93   70  31    0  30.4  0.315  23\n",
              "\n",
              "[100 rows x 9 columns]"
            ]
          },
          "metadata": {},
          "execution_count": 32
        }
      ]
    },
    {
      "cell_type": "code",
      "source": [
        "# summarise the details\n",
        "print(f'Number of entries: {len(df_test)}')\n",
        "\n",
        "X_test = df_test.drop(['Id'], axis=1)\n",
        "print(X_test.info())"
      ],
      "metadata": {
        "id": "CyfJVdWZgRZb",
        "colab": {
          "base_uri": "https://localhost:8080/"
        },
        "outputId": "37e6d5cb-785f-423a-b318-b71f55f6b57a"
      },
      "execution_count": null,
      "outputs": [
        {
          "output_type": "stream",
          "name": "stdout",
          "text": [
            "Number of entries: 100\n",
            "<class 'pandas.core.frame.DataFrame'>\n",
            "RangeIndex: 100 entries, 0 to 99\n",
            "Data columns (total 8 columns):\n",
            " #   Column  Non-Null Count  Dtype  \n",
            "---  ------  --------------  -----  \n",
            " 0   A1      100 non-null    int64  \n",
            " 1   A2      100 non-null    int64  \n",
            " 2   A3      100 non-null    int64  \n",
            " 3   A4      100 non-null    int64  \n",
            " 4   A5      100 non-null    int64  \n",
            " 5   A6      100 non-null    float64\n",
            " 6   A7      100 non-null    float64\n",
            " 7   A8      100 non-null    int64  \n",
            "dtypes: float64(2), int64(6)\n",
            "memory usage: 6.4 KB\n",
            "None\n"
          ]
        }
      ]
    },
    {
      "cell_type": "code",
      "source": [
        "# create LabelEncoder for labels \n",
        "predictions = model1.predict(X_test)\n",
        "print(predictions)\n",
        "\n",
        "final_predictions = [1 if pred > 0.5 else 0 for pred in predictions]\n",
        "print(final_predictions)\n"
      ],
      "metadata": {
        "id": "ucYp7h2GgX2T",
        "colab": {
          "base_uri": "https://localhost:8080/"
        },
        "outputId": "24d1650d-77da-4039-928c-425de9d25ea0"
      },
      "execution_count": null,
      "outputs": [
        {
          "output_type": "stream",
          "name": "stdout",
          "text": [
            "[[0.57958686]\n",
            " [0.58474547]\n",
            " [0.7687314 ]\n",
            " [0.2120356 ]\n",
            " [0.09562472]\n",
            " [0.23208232]\n",
            " [0.03703926]\n",
            " [0.7772438 ]\n",
            " [0.15711677]\n",
            " [0.23239082]\n",
            " [0.47860005]\n",
            " [0.4660602 ]\n",
            " [0.12843443]\n",
            " [0.57391655]\n",
            " [0.28074852]\n",
            " [0.22096422]\n",
            " [0.02523561]\n",
            " [0.5631984 ]\n",
            " [0.26905257]\n",
            " [0.30313158]\n",
            " [0.50903887]\n",
            " [0.62904906]\n",
            " [0.1776535 ]\n",
            " [0.3206506 ]\n",
            " [0.37768462]\n",
            " [0.5801645 ]\n",
            " [0.12714918]\n",
            " [0.71076655]\n",
            " [0.56920826]\n",
            " [0.5139292 ]\n",
            " [0.31645387]\n",
            " [0.45122528]\n",
            " [0.5225181 ]\n",
            " [0.33330706]\n",
            " [0.5027186 ]\n",
            " [0.15272939]\n",
            " [0.26218176]\n",
            " [0.12138066]\n",
            " [0.00187583]\n",
            " [0.59735006]\n",
            " [0.62749577]\n",
            " [0.38727036]\n",
            " [0.78384095]\n",
            " [0.3173483 ]\n",
            " [0.5428049 ]\n",
            " [0.6807728 ]\n",
            " [0.1461826 ]\n",
            " [0.9563318 ]\n",
            " [0.7254625 ]\n",
            " [0.21370938]\n",
            " [0.47276106]\n",
            " [0.24352069]\n",
            " [0.07139808]\n",
            " [0.4949482 ]\n",
            " [0.5713528 ]\n",
            " [0.39331234]\n",
            " [0.1053131 ]\n",
            " [0.27161962]\n",
            " [0.44540486]\n",
            " [0.20422092]\n",
            " [0.15137796]\n",
            " [0.23833174]\n",
            " [0.3342386 ]\n",
            " [0.13789693]\n",
            " [0.543066  ]\n",
            " [0.45165515]\n",
            " [0.11160091]\n",
            " [0.261682  ]\n",
            " [0.16146235]\n",
            " [0.16060014]\n",
            " [0.38966224]\n",
            " [0.23038702]\n",
            " [0.62104684]\n",
            " [0.38453513]\n",
            " [0.3532938 ]\n",
            " [0.40709826]\n",
            " [0.69575596]\n",
            " [0.41972598]\n",
            " [0.35059765]\n",
            " [0.209052  ]\n",
            " [0.7963843 ]\n",
            " [0.14069526]\n",
            " [0.44822893]\n",
            " [0.2965462 ]\n",
            " [0.246584  ]\n",
            " [0.739047  ]\n",
            " [0.5151    ]\n",
            " [0.39916626]\n",
            " [0.32331157]\n",
            " [0.3439657 ]\n",
            " [0.23243596]\n",
            " [0.40205595]\n",
            " [0.21081477]\n",
            " [0.71900594]\n",
            " [0.15369512]\n",
            " [0.6120054 ]\n",
            " [0.31849602]\n",
            " [0.38962325]\n",
            " [0.4072193 ]\n",
            " [0.13813223]]\n",
            "[1, 1, 1, 0, 0, 0, 0, 1, 0, 0, 0, 0, 0, 1, 0, 0, 0, 1, 0, 0, 1, 1, 0, 0, 0, 1, 0, 1, 1, 1, 0, 0, 1, 0, 1, 0, 0, 0, 0, 1, 1, 0, 1, 0, 1, 1, 0, 1, 1, 0, 0, 0, 0, 0, 1, 0, 0, 0, 0, 0, 0, 0, 0, 0, 1, 0, 0, 0, 0, 0, 0, 0, 1, 0, 0, 0, 1, 0, 0, 0, 1, 0, 0, 0, 0, 1, 1, 0, 0, 0, 0, 0, 0, 1, 0, 1, 0, 0, 0, 0]\n"
          ]
        }
      ]
    },
    {
      "cell_type": "code",
      "source": [
        "df_submission = pd.DataFrame(df_test['Id'])\n",
        "df_submission['Class'] = final_predictions"
      ],
      "metadata": {
        "id": "CpXHjcf1p4x_"
      },
      "execution_count": null,
      "outputs": []
    },
    {
      "cell_type": "code",
      "source": [
        "df_submission.to_csv('/content/test-predictions.csv', index=False)"
      ],
      "metadata": {
        "id": "41GqlnyRqzD7"
      },
      "execution_count": null,
      "outputs": []
    },
    {
      "cell_type": "code",
      "source": [
        "Test_pred=pd.read_csv('/content/test-predictions.csv')\n",
        "Test_pred"
      ],
      "metadata": {
        "id": "KLNBMmdmrNcS",
        "colab": {
          "base_uri": "https://localhost:8080/",
          "height": 423
        },
        "outputId": "71c8917e-c348-433a-f565-122994d146d4"
      },
      "execution_count": null,
      "outputs": [
        {
          "output_type": "execute_result",
          "data": {
            "text/html": [
              "\n",
              "  <div id=\"df-74144f1a-3428-44d0-b46f-d46b481de564\">\n",
              "    <div class=\"colab-df-container\">\n",
              "      <div>\n",
              "<style scoped>\n",
              "    .dataframe tbody tr th:only-of-type {\n",
              "        vertical-align: middle;\n",
              "    }\n",
              "\n",
              "    .dataframe tbody tr th {\n",
              "        vertical-align: top;\n",
              "    }\n",
              "\n",
              "    .dataframe thead th {\n",
              "        text-align: right;\n",
              "    }\n",
              "</style>\n",
              "<table border=\"1\" class=\"dataframe\">\n",
              "  <thead>\n",
              "    <tr style=\"text-align: right;\">\n",
              "      <th></th>\n",
              "      <th>Id</th>\n",
              "      <th>Class</th>\n",
              "    </tr>\n",
              "  </thead>\n",
              "  <tbody>\n",
              "    <tr>\n",
              "      <th>0</th>\n",
              "      <td>1</td>\n",
              "      <td>1</td>\n",
              "    </tr>\n",
              "    <tr>\n",
              "      <th>1</th>\n",
              "      <td>2</td>\n",
              "      <td>1</td>\n",
              "    </tr>\n",
              "    <tr>\n",
              "      <th>2</th>\n",
              "      <td>3</td>\n",
              "      <td>1</td>\n",
              "    </tr>\n",
              "    <tr>\n",
              "      <th>3</th>\n",
              "      <td>4</td>\n",
              "      <td>0</td>\n",
              "    </tr>\n",
              "    <tr>\n",
              "      <th>4</th>\n",
              "      <td>5</td>\n",
              "      <td>0</td>\n",
              "    </tr>\n",
              "    <tr>\n",
              "      <th>...</th>\n",
              "      <td>...</td>\n",
              "      <td>...</td>\n",
              "    </tr>\n",
              "    <tr>\n",
              "      <th>95</th>\n",
              "      <td>96</td>\n",
              "      <td>1</td>\n",
              "    </tr>\n",
              "    <tr>\n",
              "      <th>96</th>\n",
              "      <td>97</td>\n",
              "      <td>0</td>\n",
              "    </tr>\n",
              "    <tr>\n",
              "      <th>97</th>\n",
              "      <td>98</td>\n",
              "      <td>0</td>\n",
              "    </tr>\n",
              "    <tr>\n",
              "      <th>98</th>\n",
              "      <td>99</td>\n",
              "      <td>0</td>\n",
              "    </tr>\n",
              "    <tr>\n",
              "      <th>99</th>\n",
              "      <td>100</td>\n",
              "      <td>0</td>\n",
              "    </tr>\n",
              "  </tbody>\n",
              "</table>\n",
              "<p>100 rows × 2 columns</p>\n",
              "</div>\n",
              "      <button class=\"colab-df-convert\" onclick=\"convertToInteractive('df-74144f1a-3428-44d0-b46f-d46b481de564')\"\n",
              "              title=\"Convert this dataframe to an interactive table.\"\n",
              "              style=\"display:none;\">\n",
              "        \n",
              "  <svg xmlns=\"http://www.w3.org/2000/svg\" height=\"24px\"viewBox=\"0 0 24 24\"\n",
              "       width=\"24px\">\n",
              "    <path d=\"M0 0h24v24H0V0z\" fill=\"none\"/>\n",
              "    <path d=\"M18.56 5.44l.94 2.06.94-2.06 2.06-.94-2.06-.94-.94-2.06-.94 2.06-2.06.94zm-11 1L8.5 8.5l.94-2.06 2.06-.94-2.06-.94L8.5 2.5l-.94 2.06-2.06.94zm10 10l.94 2.06.94-2.06 2.06-.94-2.06-.94-.94-2.06-.94 2.06-2.06.94z\"/><path d=\"M17.41 7.96l-1.37-1.37c-.4-.4-.92-.59-1.43-.59-.52 0-1.04.2-1.43.59L10.3 9.45l-7.72 7.72c-.78.78-.78 2.05 0 2.83L4 21.41c.39.39.9.59 1.41.59.51 0 1.02-.2 1.41-.59l7.78-7.78 2.81-2.81c.8-.78.8-2.07 0-2.86zM5.41 20L4 18.59l7.72-7.72 1.47 1.35L5.41 20z\"/>\n",
              "  </svg>\n",
              "      </button>\n",
              "      \n",
              "  <style>\n",
              "    .colab-df-container {\n",
              "      display:flex;\n",
              "      flex-wrap:wrap;\n",
              "      gap: 12px;\n",
              "    }\n",
              "\n",
              "    .colab-df-convert {\n",
              "      background-color: #E8F0FE;\n",
              "      border: none;\n",
              "      border-radius: 50%;\n",
              "      cursor: pointer;\n",
              "      display: none;\n",
              "      fill: #1967D2;\n",
              "      height: 32px;\n",
              "      padding: 0 0 0 0;\n",
              "      width: 32px;\n",
              "    }\n",
              "\n",
              "    .colab-df-convert:hover {\n",
              "      background-color: #E2EBFA;\n",
              "      box-shadow: 0px 1px 2px rgba(60, 64, 67, 0.3), 0px 1px 3px 1px rgba(60, 64, 67, 0.15);\n",
              "      fill: #174EA6;\n",
              "    }\n",
              "\n",
              "    [theme=dark] .colab-df-convert {\n",
              "      background-color: #3B4455;\n",
              "      fill: #D2E3FC;\n",
              "    }\n",
              "\n",
              "    [theme=dark] .colab-df-convert:hover {\n",
              "      background-color: #434B5C;\n",
              "      box-shadow: 0px 1px 3px 1px rgba(0, 0, 0, 0.15);\n",
              "      filter: drop-shadow(0px 1px 2px rgba(0, 0, 0, 0.3));\n",
              "      fill: #FFFFFF;\n",
              "    }\n",
              "  </style>\n",
              "\n",
              "      <script>\n",
              "        const buttonEl =\n",
              "          document.querySelector('#df-74144f1a-3428-44d0-b46f-d46b481de564 button.colab-df-convert');\n",
              "        buttonEl.style.display =\n",
              "          google.colab.kernel.accessAllowed ? 'block' : 'none';\n",
              "\n",
              "        async function convertToInteractive(key) {\n",
              "          const element = document.querySelector('#df-74144f1a-3428-44d0-b46f-d46b481de564');\n",
              "          const dataTable =\n",
              "            await google.colab.kernel.invokeFunction('convertToInteractive',\n",
              "                                                     [key], {});\n",
              "          if (!dataTable) return;\n",
              "\n",
              "          const docLinkHtml = 'Like what you see? Visit the ' +\n",
              "            '<a target=\"_blank\" href=https://colab.research.google.com/notebooks/data_table.ipynb>data table notebook</a>'\n",
              "            + ' to learn more about interactive tables.';\n",
              "          element.innerHTML = '';\n",
              "          dataTable['output_type'] = 'display_data';\n",
              "          await google.colab.output.renderOutput(dataTable, element);\n",
              "          const docLink = document.createElement('div');\n",
              "          docLink.innerHTML = docLinkHtml;\n",
              "          element.appendChild(docLink);\n",
              "        }\n",
              "      </script>\n",
              "    </div>\n",
              "  </div>\n",
              "  "
            ],
            "text/plain": [
              "     Id  Class\n",
              "0     1      1\n",
              "1     2      1\n",
              "2     3      1\n",
              "3     4      0\n",
              "4     5      0\n",
              "..  ...    ...\n",
              "95   96      1\n",
              "96   97      0\n",
              "97   98      0\n",
              "98   99      0\n",
              "99  100      0\n",
              "\n",
              "[100 rows x 2 columns]"
            ]
          },
          "metadata": {},
          "execution_count": 37
        }
      ]
    },
    {
      "cell_type": "code",
      "source": [
        "# Summarise class details\n",
        "sns.countplot(x=Test_pred['Class'])"
      ],
      "metadata": {
        "id": "o1M9guMirUX8",
        "colab": {
          "base_uri": "https://localhost:8080/",
          "height": 296
        },
        "outputId": "eea95b31-c4ce-4363-b693-e6859254eeb0"
      },
      "execution_count": null,
      "outputs": [
        {
          "output_type": "execute_result",
          "data": {
            "text/plain": [
              "<matplotlib.axes._subplots.AxesSubplot at 0x7fdbf02b0ad0>"
            ]
          },
          "metadata": {},
          "execution_count": 38
        },
        {
          "output_type": "display_data",
          "data": {
            "image/png": "[encoded data removed]",
            "text/plain": [
              "<Figure size 432x288 with 1 Axes>"
            ]
          },
          "metadata": {
            "needs_background": "light"
          }
        }
      ]
    },
    {
      "cell_type": "code",
      "source": [
        "Test_pred[\"Class\"].value_counts().plot(kind =\"pie\", autopct='%1.1f%%', figsize=(7,7));"
      ],
      "metadata": {
        "colab": {
          "base_uri": "https://localhost:8080/",
          "height": 411
        },
        "id": "t9gAPdgRnfA2",
        "outputId": "b737b411-673a-472d-9b66-9b9baf7ff448"
      },
      "execution_count": null,
      "outputs": [
        {
          "output_type": "display_data",
          "data": {
            "image/png": "[encoded data removed]",
            "text/plain": [
              "<Figure size 504x504 with 1 Axes>"
            ]
          },
          "metadata": {}
        }
      ]
    }
  ]
}